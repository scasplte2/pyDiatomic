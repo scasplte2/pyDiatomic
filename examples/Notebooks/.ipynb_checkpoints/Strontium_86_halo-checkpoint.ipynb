{
 "cells": [
  {
   "cell_type": "code",
   "execution_count": 1,
   "metadata": {},
   "outputs": [],
   "source": [
    "import cse\n",
    "import matplotlib.pyplot as plt\n",
    "import numpy as np\n",
    "\n",
    "ev2Ha = 3.67493e-2\n",
    "cm2Ha = 4.55634e-6\n",
    "cm2MHz = 2.99792e4\n",
    "ev2cm = 8065.541\n",
    "ev2MHz = 2.41799e8\n",
    "aBohr = 0.52917721067\n",
    "\n",
    "\n",
    "sr2 = cse.Cse('86Sr', VT=['../potentials/srGS_halo.dat'])\n",
    "\n",
    "sr2.VT = (sr2.VT - sr2.VT.min())/ev2cm"
   ]
  },
  {
   "cell_type": "code",
   "execution_count": 2,
   "metadata": {},
   "outputs": [
    {
     "name": "stderr",
     "output_type": "stream",
     "text": [
      "c:\\git\\pydiatomic\\cse\\expectation.py:199: RuntimeWarning: divide by zero encountered in double_scalars\n",
      "  xx = (olap - ort*R1[mid1])/(orsav - diag[mid1]*ort)\n",
      "c:\\git\\pydiatomic\\cse\\expectation.py:152: RuntimeWarning: invalid value encountered in multiply\n",
      "  g *= R1\n",
      "c:\\git\\pydiatomic\\env0\\lib\\site-packages\\scipy\\integrate\\quadrature.py:360: RuntimeWarning: invalid value encountered in add\n",
      "  y[slice1]*hsum*hsum/hprod +\n",
      "c:\\git\\pydiatomic\\env0\\lib\\site-packages\\scipy\\integrate\\quadrature.py:361: RuntimeWarning: invalid value encountered in add\n",
      "  y[slice2]*(2-h0divh1))\n",
      "c:\\git\\pydiatomic\\env0\\lib\\site-packages\\numpy\\core\\fromnumeric.py:86: RuntimeWarning: invalid value encountered in reduce\n",
      "  return ufunc.reduce(obj, axis, dtype, out, **passkwargs)\n"
     ]
    },
    {
     "data": {
      "text/plain": [
       "\n",
       "Molecule: 86Sr  mass: 7.13278e-26 kg, 42.9546 amu\n",
       "Electronic state: ../potentials/srGS_halo.dat\n",
       "eigenvalues (that have been evaluated for this state):\n",
       " v  rot   energy(cm-1)    Bv(cm-1)     Dv(cm-1)\n",
       "61   0   1081.632970       0.00006            nan"
      ]
     },
     "execution_count": 2,
     "metadata": {},
     "output_type": "execute_result"
    }
   ],
   "source": [
    "# 86 - 61 - 0.134104682938705 - d=0.01 - rInf=1000 A\n",
    "# 86 - 61 - 0.134104693906399 - d=0.005 - rInf=1000 A\n",
    "# 86 - 61 - 0.134104693906909 - d=0.005 - rInf=1000 A\n",
    "# 86 - 61 - 0.134104694611904 - d=0.002 - rInf=200 A\n",
    "# 86 - 61 - 0.134104694629240 - d=0.001 - rInf=200 A\n",
    "\n",
    "# 86 - 62 - 0.134106053429147 - d=0.005 - rInk=1000 A\n",
    "\n",
    "#V(r=100) = 0.134105430651553\n",
    "\n",
    "sr2.solve(sr2.VT[0,0,-1] - 4e-10)\n",
    "wf0 = sr2.wavefunction[:, 0]\n",
    "en0 = sr2.energy\n",
    "sr2"
   ]
  },
  {
   "cell_type": "code",
   "execution_count": 3,
   "metadata": {},
   "outputs": [
    {
     "data": {
      "text/plain": [
       "96.71960129134517"
      ]
     },
     "execution_count": 3,
     "metadata": {},
     "output_type": "execute_result"
    }
   ],
   "source": [
    "(sr2.VT[0,0,-1] - sr2.energy)*2.41799*10**11 # unperturbed free vary"
   ]
  },
  {
   "cell_type": "code",
   "execution_count": 3,
   "metadata": {},
   "outputs": [
    {
     "data": {
      "text/plain": [
       "96.71960129134517"
      ]
     },
     "execution_count": 3,
     "metadata": {},
     "output_type": "execute_result"
    }
   ],
   "source": [
    "(sr2.VT[0,0,-1] - sr2.energy)*2.41799*10**11 # unperturbed recommended"
   ]
  },
  {
   "cell_type": "code",
   "execution_count": 3,
   "metadata": {},
   "outputs": [
    {
     "data": {
      "text/plain": [
       "398.29387348766517"
      ]
     },
     "execution_count": 3,
     "metadata": {},
     "output_type": "execute_result"
    }
   ],
   "source": [
    "(sr2.VT[0,0,-1] - sr2.energy)*2.41799*10**11 # 1.25"
   ]
  },
  {
   "cell_type": "code",
   "execution_count": 4,
   "metadata": {},
   "outputs": [
    {
     "data": {
      "image/png": "[encoded data removed]",
      "text/plain": [
       "<Figure size 960x480 with 1 Axes>"
      ]
     },
     "metadata": {},
     "output_type": "display_data"
    }
   ],
   "source": [
    "plt.figure(num=None, figsize=(12, 6), dpi=80, facecolor='w', edgecolor='k')\n",
    "\n",
    "R = sr2.R/aBohr\n",
    "V = (sr2.VT[0, 0] - sr2.VT[0,0,-1])*ev2MHz*1e3\n",
    "wf = -1000*wf0 + (en0 - sr2.VT[0,0,-1])*ev2MHz*1e3\n",
    "pd = 2.5*np.power(np.absolute(wf0),2) + (en0 - sr2.VT[0,0,-1])*ev2MHz*1e3\n",
    "\n",
    "plt.plot(R, V, label='$X^1\\Sigma_g^+$')\n",
    "plt.plot(R, wf) \n",
    "\n",
    "plt.axis(xmin=5, xmax=10000, ymin=-150, ymax=25)\n",
    "plt.xscale('log')\n",
    "plt.xlabel('Interparticle distance, r [a0]')\n",
    "plt.ylabel('Potential Energy, [kHz]')\n",
    "\n",
    "plt.rcParams.update({'font.size': 20})\n",
    "plt.legend(); plt.grid(1); plt.show()\n",
    "\n",
    "plt.show()"
   ]
  },
  {
   "cell_type": "code",
   "execution_count": 29,
   "metadata": {},
   "outputs": [],
   "source": [
    "data = np.column_stack((sr2.R, -1*sr2.wavefunction[:, 0]))\n",
    "np.savetxt(\"../data/86sr2_halo.dat\", data)"
   ]
  },
  {
   "cell_type": "code",
   "execution_count": 15,
   "metadata": {},
   "outputs": [],
   "source": [
    "from IPython.core.interactiveshell import InteractiveShell\n",
    "InteractiveShell.ast_node_interactivity = \"all\"\n",
    "#default value is \"last_expr\""
   ]
  }
 ],
 "metadata": {
  "kernelspec": {
   "display_name": "Python 3",
   "language": "python",
   "name": "python3"
  },
  "language_info": {
   "codemirror_mode": {
    "name": "ipython",
    "version": 3
   },
   "file_extension": ".py",
   "mimetype": "text/x-python",
   "name": "python",
   "nbconvert_exporter": "python",
   "pygments_lexer": "ipython3",
   "version": "3.7.2"
  }
 },
 "nbformat": 4,
 "nbformat_minor": 2
}
