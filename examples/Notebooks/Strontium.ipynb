{
 "cells": [
  {
   "cell_type": "code",
   "execution_count": 1,
   "metadata": {},
   "outputs": [],
   "source": [
    "import cse\n",
    "import matplotlib.pyplot as plt\n",
    "import numpy as np\n",
    "sr2 = cse.Cse('86Sr', VT=['../potentials/srGS.dat'])\n",
    "sr2.VT = (sr2.VT - sr2.VT.min())/8065.541\n",
    "ev2Ha = 3.67493e-2\n",
    "cm2Ha = 4.55634e-6"
   ]
  },
  {
   "cell_type": "code",
   "execution_count": 15,
   "metadata": {},
   "outputs": [],
   "source": [
    "from IPython.core.interactiveshell import InteractiveShell\n",
    "InteractiveShell.ast_node_interactivity = \"all\"\n",
    "#default value is \"last_expr\""
   ]
  },
  {
   "cell_type": "code",
   "execution_count": 2,
   "metadata": {},
   "outputs": [
    {
     "name": "stderr",
     "output_type": "stream",
     "text": [
      "c:\\git\\pydiatomic\\cse\\expectation.py:199: RuntimeWarning: divide by zero encountered in double_scalars\n",
      "  xx = (olap - ort*R1[mid1])/(orsav - diag[mid1]*ort)\n",
      "c:\\git\\pydiatomic\\cse\\expectation.py:152: RuntimeWarning: invalid value encountered in multiply\n",
      "  g *= R1\n",
      "c:\\git\\pydiatomic\\env0\\lib\\site-packages\\scipy\\integrate\\quadrature.py:361: RuntimeWarning: invalid value encountered in add\n",
      "  y[slice2]*(2-h0divh1))\n",
      "c:\\git\\pydiatomic\\env0\\lib\\site-packages\\numpy\\core\\fromnumeric.py:86: RuntimeWarning: invalid value encountered in reduce\n",
      "  return ufunc.reduce(obj, axis, dtype, out, **passkwargs)\n",
      "c:\\git\\pydiatomic\\env0\\lib\\site-packages\\scipy\\integrate\\quadrature.py:360: RuntimeWarning: invalid value encountered in add\n",
      "  y[slice1]*hsum*hsum/hprod +\n"
     ]
    },
    {
     "data": {
      "text/plain": [
       "\n",
       "Molecule: 86Sr  mass: 7.13278e-26 kg, 42.9546 amu\n",
       "Electronic state: ../potentials/srGS.dat\n",
       "eigenvalues (that have been evaluated for this state):\n",
       " v  rot   energy(cm-1)    Bv(cm-1)     Dv(cm-1)\n",
       "62   0   1081.631159       0.00003            nan"
      ]
     },
     "execution_count": 2,
     "metadata": {},
     "output_type": "execute_result"
    }
   ],
   "source": [
    "# 86 - 61 - 0.134104682938705 - d=0.01 - rInf=1000 A\n",
    "# 86 - 61 - 0.134104693906399 - d=0.005 - rInf=1000 A\n",
    "# 86 - 61 - 0.134104693906909 - d=0.005 - rInf=1000 A\n",
    "# 86 - 61 - 0.134104694611904 - d=0.002 - rInf=200 A\n",
    "# 86 - 61 - 0.134104694629240 - d=0.001 - rInf=200 A\n",
    "\n",
    "# 86 - 62 - 0.134106053429147 - d=0.005 - rInk=1000 A\n",
    "\n",
    "#V(r=100) = 0.134105430651553\n",
    "\n",
    "sr2.solve(sr2.VT[0,0,-1] - 4e-10)\n",
    "sr2"
   ]
  },
  {
   "cell_type": "code",
   "execution_count": 4,
   "metadata": {},
   "outputs": [
    {
     "data": {
      "image/png": "[encoded data removed]",
      "text/plain": [
       "<Figure size 432x288 with 1 Axes>"
      ]
     },
     "metadata": {
      "needs_background": "light"
     },
     "output_type": "display_data"
    }
   ],
   "source": [
    "plt.plot(sr2.R, sr2.VT[0, 0], label='dia. E')\n",
    "plt.plot(sr2.R, -0.1*sr2.wavefunction[:, 0] + sr2.energy)\n",
    "plt.axis(xmin=0, xmax=2500, ymin=sr2.VT[0][0][-1]*0.98, ymax=sr2.VT[0][0][-1]*1.1)\n",
    "plt.show()"
   ]
  },
  {
   "cell_type": "code",
   "execution_count": null,
   "metadata": {},
   "outputs": [],
   "source": [
    "sr2.levels(vmax=62, ntrial=1)"
   ]
  },
  {
   "cell_type": "code",
   "execution_count": 33,
   "metadata": {},
   "outputs": [
    {
     "data": {
      "text/plain": [
       "328.80256944415606"
      ]
     },
     "execution_count": 33,
     "metadata": {},
     "output_type": "execute_result"
    }
   ],
   "source": [
    "(sr2.VT[0,0,-1] - sr2.energy)*2.41799*10**8"
   ]
  },
  {
   "cell_type": "code",
   "execution_count": 8,
   "metadata": {},
   "outputs": [
    {
     "data": {
      "text/plain": [
       "OrderedDict([(62, (1081.6311614296585, 3.985240093497974e-05, nan, 0))])"
      ]
     },
     "execution_count": 8,
     "metadata": {},
     "output_type": "execute_result"
    }
   ],
   "source": [
    "sr2.results"
   ]
  },
  {
   "cell_type": "code",
   "execution_count": 7,
   "metadata": {},
   "outputs": [
    {
     "data": {
      "text/plain": [
       "96.71960129134517"
      ]
     },
     "execution_count": 7,
     "metadata": {},
     "output_type": "execute_result"
    }
   ],
   "source": [
    "(sr2.VT[0,0,-1] - sr2.energy)*2.41799*10**11"
   ]
  },
  {
   "cell_type": "code",
   "execution_count": 8,
   "metadata": {},
   "outputs": [],
   "source": [
    "sr2.VT = sr2.VT - sr2.VT.min()"
   ]
  },
  {
   "cell_type": "code",
   "execution_count": null,
   "metadata": {},
   "outputs": [],
   "source": []
  }
 ],
 "metadata": {
  "kernelspec": {
   "display_name": "Python 3",
   "language": "python",
   "name": "python3"
  },
  "language_info": {
   "codemirror_mode": {
    "name": "ipython",
    "version": 3
   },
   "file_extension": ".py",
   "mimetype": "text/x-python",
   "name": "python",
   "nbconvert_exporter": "python",
   "pygments_lexer": "ipython3",
   "version": "3.7.2"
  }
 },
 "nbformat": 4,
 "nbformat_minor": 2
}
