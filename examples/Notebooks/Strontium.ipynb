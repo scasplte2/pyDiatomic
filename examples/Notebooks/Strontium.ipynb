{
 "cells": [
  {
   "cell_type": "code",
   "execution_count": 2,
   "metadata": {},
   "outputs": [],
   "source": [
    "import cse\n",
    "import matplotlib.pyplot as plt\n",
    "\n",
    "sr2 = cse.Cse('86Sr', VT=['../potentials/srGS.dat'])"
   ]
  },
  {
   "cell_type": "code",
   "execution_count": 4,
   "metadata": {},
   "outputs": [
    {
     "data": {
      "text/plain": [
       "\n",
       "Molecule: 86Sr  mass: 7.13278e-26 kg, 42.9546 amu\n",
       "Electronic state: ../potentials/srGS.dat\n",
       "eigenvalues (that have been evaluated for this state):\n",
       " v  rot   energy(cm-1)    Bv(cm-1)     Dv(cm-1)\n",
       "61   0   1081.624027       0.00055      1.996e-06"
      ]
     },
     "execution_count": 4,
     "metadata": {},
     "output_type": "execute_result"
    }
   ],
   "source": [
    "# 86 - 61 - 0.134104682938705 - d=0.01 - rInf=1000 A\n",
    "# 86 - 61 - 0.134104693906399 - d=0.005 - rInf=1000 A\n",
    "# 86 - 61 - 0.134104693906909 - d=0.005 - rInf=1000 A\n",
    "# 86 - 61 - 0.134104694611904 - d=0.002 - rInf=200 A\n",
    "# 86 - 61 - 0.134104694629240 - d=0.001 - rInf=200 A\n",
    "\n",
    "# 86 - 62 - 0.134106053429147 - d=0.005 - rInk=1000 A\n",
    "\n",
    "#V(r=100) = 0.134105430651553\n",
    "\n",
    "sr2.solve(0.134105430651553 + 10**(-7))\n",
    "sr2"
   ]
  },
  {
   "cell_type": "code",
   "execution_count": 20,
   "metadata": {},
   "outputs": [
    {
     "data": {
      "image/png": "[encoded data removed]",
      "text/plain": [
       "<Figure size 432x288 with 1 Axes>"
      ]
     },
     "metadata": {
      "needs_background": "light"
     },
     "output_type": "display_data"
    }
   ],
   "source": [
    "plt.plot(sr2.R, sr2.VT[0, 0], label='dia. E')\n",
    "plt.plot(sr2.R, 0.05*sr2.wavefunction[:, 0] + sr2.energy)\n",
    "plt.axis(xmin=3.5, xmax=10, ymin=0.12, ymax=0.17)\n",
    "plt.show()"
   ]
  },
  {
   "cell_type": "code",
   "execution_count": 3,
   "metadata": {},
   "outputs": [
    {
     "ename": "AttributeError",
     "evalue": "'Cse' object has no attribute 'wavefunction'",
     "output_type": "error",
     "traceback": [
      "\u001b[1;31m---------------------------------------------------------------------------\u001b[0m",
      "\u001b[1;31mAttributeError\u001b[0m                            Traceback (most recent call last)",
      "\u001b[1;32m<ipython-input-3-d28bdb33c438>\u001b[0m in \u001b[0;36m<module>\u001b[1;34m\u001b[0m\n\u001b[1;32m----> 1\u001b[1;33m \u001b[0mplt\u001b[0m\u001b[1;33m.\u001b[0m\u001b[0mplot\u001b[0m\u001b[1;33m(\u001b[0m\u001b[0msr2\u001b[0m\u001b[1;33m.\u001b[0m\u001b[0mwavefunction\u001b[0m\u001b[1;33m[\u001b[0m\u001b[1;33m:\u001b[0m\u001b[1;33m,\u001b[0m \u001b[1;36m0\u001b[0m\u001b[1;33m]\u001b[0m\u001b[1;33m)\u001b[0m\u001b[1;33m\u001b[0m\u001b[1;33m\u001b[0m\u001b[0m\n\u001b[0m\u001b[0;32m      2\u001b[0m \u001b[0mplt\u001b[0m\u001b[1;33m.\u001b[0m\u001b[0mshow\u001b[0m\u001b[1;33m(\u001b[0m\u001b[1;33m)\u001b[0m\u001b[1;33m\u001b[0m\u001b[1;33m\u001b[0m\u001b[0m\n",
      "\u001b[1;31mAttributeError\u001b[0m: 'Cse' object has no attribute 'wavefunction'"
     ]
    }
   ],
   "source": [
    "plt.plot(sr2.wavefunction[:, 0])\n",
    "plt.show()"
   ]
  },
  {
   "cell_type": "code",
   "execution_count": null,
   "metadata": {},
   "outputs": [],
   "source": [
    "sr2.levels(vmax=62, ntrial=6)"
   ]
  },
  {
   "cell_type": "code",
   "execution_count": 9,
   "metadata": {},
   "outputs": [
    {
     "data": {
      "text/plain": [
       "\n",
       "Molecule: 86Sr  mass: 7.13278e-26 kg, 42.9546 amu\n",
       "Electronic state: ../potentials/srGS.dat\n",
       "eigenvalues (that have been evaluated for this state):\n",
       " v  rot   energy(cm-1)    Bv(cm-1)     Dv(cm-1)\n",
       "61   0   1081.629032       0.00055      1.996e-06"
      ]
     },
     "execution_count": 9,
     "metadata": {},
     "output_type": "execute_result"
    }
   ],
   "source": [
    "sr2\n"
   ]
  },
  {
   "cell_type": "code",
   "execution_count": 5,
   "metadata": {},
   "outputs": [
    {
     "data": {
      "text/plain": [
       "OrderedDict([(61,\n",
       "              (1081.6240274830022,\n",
       "               0.0005534472186683252,\n",
       "               1.996445064944252e-06,\n",
       "               0))])"
      ]
     },
     "execution_count": 5,
     "metadata": {},
     "output_type": "execute_result"
    }
   ],
   "source": [
    "sr2.results"
   ]
  },
  {
   "cell_type": "code",
   "execution_count": null,
   "metadata": {},
   "outputs": [],
   "source": []
  }
 ],
 "metadata": {
  "kernelspec": {
   "display_name": "Python 3",
   "language": "python",
   "name": "python3"
  },
  "language_info": {
   "codemirror_mode": {
    "name": "ipython",
    "version": 3
   },
   "file_extension": ".py",
   "mimetype": "text/x-python",
   "name": "python",
   "nbconvert_exporter": "python",
   "pygments_lexer": "ipython3",
   "version": "3.7.2"
  }
 },
 "nbformat": 4,
 "nbformat_minor": 2
}
