{
 "cells": [
  {
   "cell_type": "code",
   "execution_count": 3,
   "metadata": {},
   "outputs": [],
   "source": [
    "import cse\n",
    "import matplotlib.pyplot as plt\n",
    "import numpy as np\n",
    "\n",
    "ev2Ha = 3.67493e-2\n",
    "cm2Ha = 4.55634e-6\n",
    "cm2MHz = 2.99792e4\n",
    "ev2cm = 8065.541\n",
    "ev2MHz = 2.41799e8\n",
    "aBohr = 0.52917721067\n",
    "kg2au = 1/9.10939e-31\n",
    "Ha2MHz = 6.57968e9\n",
    "\n",
    "rm = 1\n",
    "De = 1000/ev2cm\n",
    "#De = 950/ev2cm\n",
    "\n",
    "#R_ang = np.arange(0.01, 3000, 0.01)\n",
    "R_ang = np.arange(0.01, 15, 0.01)\n",
    "V = De*(np.power(rm/R_ang, 12) - 2*np.power(rm/R_ang, 6)) + De\n",
    "\n",
    "X = cse.Cse('86Sr', VT=[(R_ang, V)])"
   ]
  },
  {
   "cell_type": "code",
   "execution_count": null,
   "metadata": {},
   "outputs": [],
   "source": [
    "#X.solve(999.9)\n",
    "#wf11 = X.wavefunction[:, 0]\n",
    "#en11 = X.energy"
   ]
  },
  {
   "cell_type": "code",
   "execution_count": 4,
   "metadata": {
    "scrolled": true
   },
   "outputs": [
    {
     "data": {
      "text/plain": [
       "\n",
       "Molecule: 86Sr  mass: 7.13278e-26 kg, 42.9546 amu\n",
       "Electronic state:eigenvalues (that have been evaluated for this state):\n",
       " v  rot   energy(cm-1)    Bv(cm-1)     Dv(cm-1)\n",
       " 7   0   942.192120       0.17847      3.016e-05"
      ]
     },
     "execution_count": 4,
     "metadata": {},
     "output_type": "execute_result"
    }
   ],
   "source": [
    "X.solve(947.2/ev2cm)\n",
    "wf10 = X.wavefunction[:, 0]\n",
    "en10 = X.energy\n",
    "X"
   ]
  },
  {
   "cell_type": "code",
   "execution_count": 5,
   "metadata": {},
   "outputs": [
    {
     "data": {
      "text/plain": [
       "\n",
       "Molecule: 86Sr  mass: 7.13278e-26 kg, 42.9546 amu\n",
       "Electronic state:eigenvalues (that have been evaluated for this state):\n",
       " v  rot   energy(cm-1)    Bv(cm-1)     Dv(cm-1)\n",
       " 7   0   942.192120       0.17847      3.016e-05"
      ]
     },
     "execution_count": 5,
     "metadata": {},
     "output_type": "execute_result"
    }
   ],
   "source": [
    "X.solve(946/ev2cm)\n",
    "wf9 = X.wavefunction[:, 0]\n",
    "en9 = X.energy\n",
    "X"
   ]
  },
  {
   "cell_type": "code",
   "execution_count": 6,
   "metadata": {},
   "outputs": [
    {
     "data": {
      "text/plain": [
       "\n",
       "Molecule: 86Sr  mass: 7.13278e-26 kg, 42.9546 amu\n",
       "Electronic state:eigenvalues (that have been evaluated for this state):\n",
       " v  rot   energy(cm-1)    Bv(cm-1)     Dv(cm-1)\n",
       " 7   0   942.192120       0.17847      3.016e-05"
      ]
     },
     "execution_count": 6,
     "metadata": {},
     "output_type": "execute_result"
    }
   ],
   "source": [
    "X.solve(940/ev2cm)\n",
    "wf8 = X.wavefunction[:, 0]\n",
    "en8 = X.energy\n",
    "X"
   ]
  },
  {
   "cell_type": "code",
   "execution_count": 7,
   "metadata": {},
   "outputs": [
    {
     "data": {
      "text/plain": [
       "\n",
       "Molecule: 86Sr  mass: 7.13278e-26 kg, 42.9546 amu\n",
       "Electronic state:eigenvalues (that have been evaluated for this state):\n",
       " v  rot   energy(cm-1)    Bv(cm-1)     Dv(cm-1)\n",
       " 7   0   942.192120       0.17847      3.016e-05"
      ]
     },
     "execution_count": 7,
     "metadata": {},
     "output_type": "execute_result"
    }
   ],
   "source": [
    "X.solve(925/ev2cm)\n",
    "wf7 = X.wavefunction[:, 0]\n",
    "en7 = X.energy\n",
    "X"
   ]
  },
  {
   "cell_type": "code",
   "execution_count": 8,
   "metadata": {},
   "outputs": [
    {
     "data": {
      "text/plain": [
       "\n",
       "Molecule: 86Sr  mass: 7.13278e-26 kg, 42.9546 amu\n",
       "Electronic state:eigenvalues (that have been evaluated for this state):\n",
       " v  rot   energy(cm-1)    Bv(cm-1)     Dv(cm-1)\n",
       " 5   0   830.098864       0.24437      1.624e-05\n",
       " 7   0   942.192120       0.17847      3.016e-05"
      ]
     },
     "execution_count": 8,
     "metadata": {},
     "output_type": "execute_result"
    }
   ],
   "source": [
    "X.solve(850/ev2cm)\n",
    "wf6 = X.wavefunction[:, 0]\n",
    "en6 = X.energy\n",
    "X"
   ]
  },
  {
   "cell_type": "code",
   "execution_count": 9,
   "metadata": {},
   "outputs": [
    {
     "data": {
      "text/plain": [
       "\n",
       "Molecule: 86Sr  mass: 7.13278e-26 kg, 42.9546 amu\n",
       "Electronic state:eigenvalues (that have been evaluated for this state):\n",
       " v  rot   energy(cm-1)    Bv(cm-1)     Dv(cm-1)\n",
       " 5   0   830.098864       0.24437      1.624e-05\n",
       " 7   0   942.192120       0.17847      3.016e-05"
      ]
     },
     "execution_count": 9,
     "metadata": {},
     "output_type": "execute_result"
    }
   ],
   "source": [
    "X.solve(800/ev2cm)\n",
    "wf5 = X.wavefunction[:, 0]\n",
    "en5 = X.energy\n",
    "X"
   ]
  },
  {
   "cell_type": "code",
   "execution_count": 10,
   "metadata": {},
   "outputs": [
    {
     "data": {
      "text/plain": [
       "\n",
       "Molecule: 86Sr  mass: 7.13278e-26 kg, 42.9546 amu\n",
       "Electronic state:eigenvalues (that have been evaluated for this state):\n",
       " v  rot   energy(cm-1)    Bv(cm-1)     Dv(cm-1)\n",
       " 4   0   742.160953       0.27462      1.237e-05\n",
       " 5   0   830.098864       0.24437      1.624e-05\n",
       " 7   0   942.192120       0.17847      3.016e-05"
      ]
     },
     "execution_count": 10,
     "metadata": {},
     "output_type": "execute_result"
    }
   ],
   "source": [
    "X.solve(725/ev2cm)\n",
    "wf4 = X.wavefunction[:, 0]\n",
    "en4 = X.energy\n",
    "X"
   ]
  },
  {
   "cell_type": "code",
   "execution_count": 11,
   "metadata": {
    "scrolled": false
   },
   "outputs": [
    {
     "ename": "IndexError",
     "evalue": "index -1 is out of bounds for axis 0 with size 0",
     "output_type": "error",
     "traceback": [
      "\u001b[1;31m---------------------------------------------------------------------------\u001b[0m",
      "\u001b[1;31mIndexError\u001b[0m                                Traceback (most recent call last)",
      "\u001b[1;32m<ipython-input-11-3b71e7f9891b>\u001b[0m in \u001b[0;36m<module>\u001b[1;34m\u001b[0m\n\u001b[1;32m----> 1\u001b[1;33m \u001b[0mX\u001b[0m\u001b[1;33m.\u001b[0m\u001b[0msolve\u001b[0m\u001b[1;33m(\u001b[0m\u001b[1;36m650\u001b[0m\u001b[1;33m/\u001b[0m\u001b[0mev2cm\u001b[0m\u001b[1;33m)\u001b[0m\u001b[1;33m\u001b[0m\u001b[1;33m\u001b[0m\u001b[0m\n\u001b[0m\u001b[0;32m      2\u001b[0m \u001b[0mwf3\u001b[0m \u001b[1;33m=\u001b[0m \u001b[0mX\u001b[0m\u001b[1;33m.\u001b[0m\u001b[0mwavefunction\u001b[0m\u001b[1;33m[\u001b[0m\u001b[1;33m:\u001b[0m\u001b[1;33m,\u001b[0m \u001b[1;36m0\u001b[0m\u001b[1;33m]\u001b[0m\u001b[1;33m\u001b[0m\u001b[1;33m\u001b[0m\u001b[0m\n\u001b[0;32m      3\u001b[0m \u001b[0men3\u001b[0m \u001b[1;33m=\u001b[0m \u001b[0mX\u001b[0m\u001b[1;33m.\u001b[0m\u001b[0menergy\u001b[0m\u001b[1;33m\u001b[0m\u001b[1;33m\u001b[0m\u001b[0m\n\u001b[0;32m      4\u001b[0m \u001b[0mX\u001b[0m\u001b[1;33m\u001b[0m\u001b[1;33m\u001b[0m\u001b[0m\n",
      "\u001b[1;32mc:\\git\\pydiatomic\\cse\\cse.py\u001b[0m in \u001b[0;36msolve\u001b[1;34m(self, en, rot, eigenbound)\u001b[0m\n\u001b[0;32m    140\u001b[0m \u001b[1;33m\u001b[0m\u001b[0m\n\u001b[0;32m    141\u001b[0m         \u001b[0mself\u001b[0m\u001b[1;33m.\u001b[0m\u001b[0mwavefunction\u001b[0m\u001b[1;33m,\u001b[0m \u001b[0mself\u001b[0m\u001b[1;33m.\u001b[0m\u001b[0menergy\u001b[0m\u001b[1;33m,\u001b[0m \u001b[0mself\u001b[0m\u001b[1;33m.\u001b[0m\u001b[0mopenchann\u001b[0m \u001b[1;33m=\u001b[0m\u001b[0;31m \u001b[0m\u001b[0;31m\\\u001b[0m\u001b[1;33m\u001b[0m\u001b[1;33m\u001b[0m\u001b[0m\n\u001b[1;32m--> 142\u001b[1;33m             \u001b[0mjohnson\u001b[0m\u001b[1;33m.\u001b[0m\u001b[0msolveCSE\u001b[0m\u001b[1;33m(\u001b[0m\u001b[0mself\u001b[0m\u001b[1;33m,\u001b[0m \u001b[0men\u001b[0m\u001b[1;33m)\u001b[0m\u001b[1;33m\u001b[0m\u001b[1;33m\u001b[0m\u001b[0m\n\u001b[0m\u001b[0;32m    143\u001b[0m \u001b[1;33m\u001b[0m\u001b[0m\n\u001b[0;32m    144\u001b[0m         \u001b[0mself\u001b[0m\u001b[1;33m.\u001b[0m\u001b[0mcm\u001b[0m \u001b[1;33m=\u001b[0m \u001b[0mself\u001b[0m\u001b[1;33m.\u001b[0m\u001b[0menergy\u001b[0m\u001b[1;33m*\u001b[0m\u001b[0mself\u001b[0m\u001b[1;33m.\u001b[0m\u001b[0m_evcm\u001b[0m\u001b[1;33m\u001b[0m\u001b[1;33m\u001b[0m\u001b[0m\n",
      "\u001b[1;32mc:\\git\\pydiatomic\\cse\\johnson.py\u001b[0m in \u001b[0;36msolveCSE\u001b[1;34m(Cse, en)\u001b[0m\n\u001b[0;32m    388\u001b[0m     \u001b[0mnopen\u001b[0m \u001b[1;33m=\u001b[0m \u001b[0medash\u001b[0m\u001b[1;33m[\u001b[0m\u001b[0mopenchann\u001b[0m\u001b[1;33m]\u001b[0m\u001b[1;33m.\u001b[0m\u001b[0msize\u001b[0m\u001b[1;33m\u001b[0m\u001b[1;33m\u001b[0m\u001b[0m\n\u001b[0;32m    389\u001b[0m \u001b[1;33m\u001b[0m\u001b[0m\n\u001b[1;32m--> 390\u001b[1;33m     \u001b[0mmx\u001b[0m \u001b[1;33m=\u001b[0m \u001b[0mmatching_point\u001b[0m\u001b[1;33m(\u001b[0m\u001b[0men\u001b[0m\u001b[1;33m,\u001b[0m \u001b[0mrot\u001b[0m\u001b[1;33m,\u001b[0m \u001b[0mV\u001b[0m\u001b[1;33m,\u001b[0m \u001b[0mR\u001b[0m\u001b[1;33m,\u001b[0m \u001b[0mμ\u001b[0m\u001b[1;33m,\u001b[0m \u001b[0mAM\u001b[0m\u001b[1;33m)\u001b[0m\u001b[1;33m\u001b[0m\u001b[1;33m\u001b[0m\u001b[0m\n\u001b[0m\u001b[0;32m    391\u001b[0m     \u001b[0mCse\u001b[0m\u001b[1;33m.\u001b[0m\u001b[0mmx\u001b[0m \u001b[1;33m=\u001b[0m \u001b[0mmx\u001b[0m\u001b[1;33m\u001b[0m\u001b[1;33m\u001b[0m\u001b[0m\n\u001b[0;32m    392\u001b[0m \u001b[1;33m\u001b[0m\u001b[0m\n",
      "\u001b[1;32mc:\\git\\pydiatomic\\cse\\johnson.py\u001b[0m in \u001b[0;36mmatching_point\u001b[1;34m(en, rot, V, R, μ, AM)\u001b[0m\n\u001b[0;32m    264\u001b[0m         \u001b[0mvib\u001b[0m \u001b[1;33m=\u001b[0m \u001b[0mlen\u001b[0m\u001b[1;33m(\u001b[0m\u001b[0mouter\u001b[0m\u001b[1;33m)\u001b[0m\u001b[1;33m\u001b[0m\u001b[1;33m\u001b[0m\u001b[0m\n\u001b[0;32m    265\u001b[0m         \u001b[1;32mif\u001b[0m \u001b[0mlen\u001b[0m\u001b[1;33m(\u001b[0m\u001b[0mouter\u001b[0m\u001b[1;33m)\u001b[0m \u001b[1;33m>\u001b[0m \u001b[1;36m0\u001b[0m\u001b[1;33m:\u001b[0m\u001b[1;33m\u001b[0m\u001b[1;33m\u001b[0m\u001b[0m\n\u001b[1;32m--> 266\u001b[1;33m             \u001b[0mmx\u001b[0m \u001b[1;33m=\u001b[0m \u001b[1;33m(\u001b[0m\u001b[0mouter\u001b[0m\u001b[1;33m[\u001b[0m\u001b[1;33m-\u001b[0m\u001b[1;36m1\u001b[0m\u001b[1;33m]\u001b[0m \u001b[1;33m+\u001b[0m \u001b[0minner\u001b[0m\u001b[1;33m[\u001b[0m\u001b[1;33m-\u001b[0m\u001b[1;36m1\u001b[0m\u001b[1;33m]\u001b[0m\u001b[1;33m)\u001b[0m\u001b[1;33m//\u001b[0m\u001b[1;36m2\u001b[0m \u001b[1;33m+\u001b[0m \u001b[0mmn\u001b[0m\u001b[1;33m\u001b[0m\u001b[1;33m\u001b[0m\u001b[0m\n\u001b[0m\u001b[0;32m    267\u001b[0m \u001b[1;33m\u001b[0m\u001b[0m\n\u001b[0;32m    268\u001b[0m     \u001b[1;32mreturn\u001b[0m \u001b[0mmx\u001b[0m\u001b[1;33m\u001b[0m\u001b[1;33m\u001b[0m\u001b[0m\n",
      "\u001b[1;31mIndexError\u001b[0m: index -1 is out of bounds for axis 0 with size 0"
     ]
    }
   ],
   "source": [
    "X.solve(650/ev2cm)\n",
    "wf3 = X.wavefunction[:, 0]\n",
    "en3 = X.energy\n",
    "X"
   ]
  },
  {
   "cell_type": "code",
   "execution_count": 12,
   "metadata": {},
   "outputs": [
    {
     "ename": "IndexError",
     "evalue": "index -1 is out of bounds for axis 0 with size 0",
     "output_type": "error",
     "traceback": [
      "\u001b[1;31m---------------------------------------------------------------------------\u001b[0m",
      "\u001b[1;31mIndexError\u001b[0m                                Traceback (most recent call last)",
      "\u001b[1;32m<ipython-input-12-d505d69ddb7f>\u001b[0m in \u001b[0;36m<module>\u001b[1;34m\u001b[0m\n\u001b[1;32m----> 1\u001b[1;33m \u001b[0mX\u001b[0m\u001b[1;33m.\u001b[0m\u001b[0msolve\u001b[0m\u001b[1;33m(\u001b[0m\u001b[1;36m500\u001b[0m\u001b[1;33m)\u001b[0m\u001b[1;33m\u001b[0m\u001b[1;33m\u001b[0m\u001b[0m\n\u001b[0m\u001b[0;32m      2\u001b[0m \u001b[0mwf2\u001b[0m \u001b[1;33m=\u001b[0m \u001b[0mX\u001b[0m\u001b[1;33m.\u001b[0m\u001b[0mwavefunction\u001b[0m\u001b[1;33m[\u001b[0m\u001b[1;33m:\u001b[0m\u001b[1;33m,\u001b[0m \u001b[1;36m0\u001b[0m\u001b[1;33m]\u001b[0m\u001b[1;33m\u001b[0m\u001b[1;33m\u001b[0m\u001b[0m\n\u001b[0;32m      3\u001b[0m \u001b[0men2\u001b[0m \u001b[1;33m=\u001b[0m \u001b[0mX\u001b[0m\u001b[1;33m.\u001b[0m\u001b[0menergy\u001b[0m\u001b[1;33m\u001b[0m\u001b[1;33m\u001b[0m\u001b[0m\n\u001b[0;32m      4\u001b[0m \u001b[0mX\u001b[0m\u001b[1;33m\u001b[0m\u001b[1;33m\u001b[0m\u001b[0m\n",
      "\u001b[1;32mc:\\git\\pydiatomic\\cse\\cse.py\u001b[0m in \u001b[0;36msolve\u001b[1;34m(self, en, rot, eigenbound)\u001b[0m\n\u001b[0;32m    140\u001b[0m \u001b[1;33m\u001b[0m\u001b[0m\n\u001b[0;32m    141\u001b[0m         \u001b[0mself\u001b[0m\u001b[1;33m.\u001b[0m\u001b[0mwavefunction\u001b[0m\u001b[1;33m,\u001b[0m \u001b[0mself\u001b[0m\u001b[1;33m.\u001b[0m\u001b[0menergy\u001b[0m\u001b[1;33m,\u001b[0m \u001b[0mself\u001b[0m\u001b[1;33m.\u001b[0m\u001b[0mopenchann\u001b[0m \u001b[1;33m=\u001b[0m\u001b[0;31m \u001b[0m\u001b[0;31m\\\u001b[0m\u001b[1;33m\u001b[0m\u001b[1;33m\u001b[0m\u001b[0m\n\u001b[1;32m--> 142\u001b[1;33m             \u001b[0mjohnson\u001b[0m\u001b[1;33m.\u001b[0m\u001b[0msolveCSE\u001b[0m\u001b[1;33m(\u001b[0m\u001b[0mself\u001b[0m\u001b[1;33m,\u001b[0m \u001b[0men\u001b[0m\u001b[1;33m)\u001b[0m\u001b[1;33m\u001b[0m\u001b[1;33m\u001b[0m\u001b[0m\n\u001b[0m\u001b[0;32m    143\u001b[0m \u001b[1;33m\u001b[0m\u001b[0m\n\u001b[0;32m    144\u001b[0m         \u001b[0mself\u001b[0m\u001b[1;33m.\u001b[0m\u001b[0mcm\u001b[0m \u001b[1;33m=\u001b[0m \u001b[0mself\u001b[0m\u001b[1;33m.\u001b[0m\u001b[0menergy\u001b[0m\u001b[1;33m*\u001b[0m\u001b[0mself\u001b[0m\u001b[1;33m.\u001b[0m\u001b[0m_evcm\u001b[0m\u001b[1;33m\u001b[0m\u001b[1;33m\u001b[0m\u001b[0m\n",
      "\u001b[1;32mc:\\git\\pydiatomic\\cse\\johnson.py\u001b[0m in \u001b[0;36msolveCSE\u001b[1;34m(Cse, en)\u001b[0m\n\u001b[0;32m    388\u001b[0m     \u001b[0mnopen\u001b[0m \u001b[1;33m=\u001b[0m \u001b[0medash\u001b[0m\u001b[1;33m[\u001b[0m\u001b[0mopenchann\u001b[0m\u001b[1;33m]\u001b[0m\u001b[1;33m.\u001b[0m\u001b[0msize\u001b[0m\u001b[1;33m\u001b[0m\u001b[1;33m\u001b[0m\u001b[0m\n\u001b[0;32m    389\u001b[0m \u001b[1;33m\u001b[0m\u001b[0m\n\u001b[1;32m--> 390\u001b[1;33m     \u001b[0mmx\u001b[0m \u001b[1;33m=\u001b[0m \u001b[0mmatching_point\u001b[0m\u001b[1;33m(\u001b[0m\u001b[0men\u001b[0m\u001b[1;33m,\u001b[0m \u001b[0mrot\u001b[0m\u001b[1;33m,\u001b[0m \u001b[0mV\u001b[0m\u001b[1;33m,\u001b[0m \u001b[0mR\u001b[0m\u001b[1;33m,\u001b[0m \u001b[0mμ\u001b[0m\u001b[1;33m,\u001b[0m \u001b[0mAM\u001b[0m\u001b[1;33m)\u001b[0m\u001b[1;33m\u001b[0m\u001b[1;33m\u001b[0m\u001b[0m\n\u001b[0m\u001b[0;32m    391\u001b[0m     \u001b[0mCse\u001b[0m\u001b[1;33m.\u001b[0m\u001b[0mmx\u001b[0m \u001b[1;33m=\u001b[0m \u001b[0mmx\u001b[0m\u001b[1;33m\u001b[0m\u001b[1;33m\u001b[0m\u001b[0m\n\u001b[0;32m    392\u001b[0m \u001b[1;33m\u001b[0m\u001b[0m\n",
      "\u001b[1;32mc:\\git\\pydiatomic\\cse\\johnson.py\u001b[0m in \u001b[0;36mmatching_point\u001b[1;34m(en, rot, V, R, μ, AM)\u001b[0m\n\u001b[0;32m    264\u001b[0m         \u001b[0mvib\u001b[0m \u001b[1;33m=\u001b[0m \u001b[0mlen\u001b[0m\u001b[1;33m(\u001b[0m\u001b[0mouter\u001b[0m\u001b[1;33m)\u001b[0m\u001b[1;33m\u001b[0m\u001b[1;33m\u001b[0m\u001b[0m\n\u001b[0;32m    265\u001b[0m         \u001b[1;32mif\u001b[0m \u001b[0mlen\u001b[0m\u001b[1;33m(\u001b[0m\u001b[0mouter\u001b[0m\u001b[1;33m)\u001b[0m \u001b[1;33m>\u001b[0m \u001b[1;36m0\u001b[0m\u001b[1;33m:\u001b[0m\u001b[1;33m\u001b[0m\u001b[1;33m\u001b[0m\u001b[0m\n\u001b[1;32m--> 266\u001b[1;33m             \u001b[0mmx\u001b[0m \u001b[1;33m=\u001b[0m \u001b[1;33m(\u001b[0m\u001b[0mouter\u001b[0m\u001b[1;33m[\u001b[0m\u001b[1;33m-\u001b[0m\u001b[1;36m1\u001b[0m\u001b[1;33m]\u001b[0m \u001b[1;33m+\u001b[0m \u001b[0minner\u001b[0m\u001b[1;33m[\u001b[0m\u001b[1;33m-\u001b[0m\u001b[1;36m1\u001b[0m\u001b[1;33m]\u001b[0m\u001b[1;33m)\u001b[0m\u001b[1;33m//\u001b[0m\u001b[1;36m2\u001b[0m \u001b[1;33m+\u001b[0m \u001b[0mmn\u001b[0m\u001b[1;33m\u001b[0m\u001b[1;33m\u001b[0m\u001b[0m\n\u001b[0m\u001b[0;32m    267\u001b[0m \u001b[1;33m\u001b[0m\u001b[0m\n\u001b[0;32m    268\u001b[0m     \u001b[1;32mreturn\u001b[0m \u001b[0mmx\u001b[0m\u001b[1;33m\u001b[0m\u001b[1;33m\u001b[0m\u001b[0m\n",
      "\u001b[1;31mIndexError\u001b[0m: index -1 is out of bounds for axis 0 with size 0"
     ]
    }
   ],
   "source": [
    "X.solve(500)\n",
    "wf2 = X.wavefunction[:, 0]\n",
    "en2 = X.energy\n",
    "X"
   ]
  },
  {
   "cell_type": "code",
   "execution_count": 13,
   "metadata": {},
   "outputs": [
    {
     "data": {
      "text/plain": [
       "\n",
       "Molecule: 86Sr  mass: 7.13278e-26 kg, 42.9546 amu\n",
       "Electronic state:eigenvalues (that have been evaluated for this state):\n",
       " v  rot   energy(cm-1)    Bv(cm-1)     Dv(cm-1)\n",
       " 1   0   317.910661       0.35612      5.964e-06\n",
       " 4   0   742.160953       0.27462      1.237e-05\n",
       " 5   0   830.098864       0.24437      1.624e-05\n",
       " 7   0   942.192120       0.17847      3.016e-05"
      ]
     },
     "execution_count": 13,
     "metadata": {},
     "output_type": "execute_result"
    }
   ],
   "source": [
    "X.solve(400)\n",
    "wf1 = X.wavefunction[:, 0]\n",
    "en1 = X.energy\n",
    "X"
   ]
  },
  {
   "cell_type": "code",
   "execution_count": 14,
   "metadata": {},
   "outputs": [
    {
     "data": {
      "text/plain": [
       "\n",
       "Molecule: 86Sr  mass: 7.13278e-26 kg, 42.9546 amu\n",
       "Electronic state:eigenvalues (that have been evaluated for this state):\n",
       " v  rot   energy(cm-1)    Bv(cm-1)     Dv(cm-1)\n",
       " 0   0   114.771726       0.38060      4.775e-06\n",
       " 1   0   317.910661       0.35612      5.964e-06\n",
       " 4   0   742.160953       0.27462      1.237e-05\n",
       " 5   0   830.098864       0.24437      1.624e-05\n",
       " 7   0   942.192120       0.17847      3.016e-05"
      ]
     },
     "execution_count": 14,
     "metadata": {},
     "output_type": "execute_result"
    }
   ],
   "source": [
    "X.solve(114.77)\n",
    "wf0 = X.wavefunction[:, 0]\n",
    "en0 = X.energy\n",
    "X"
   ]
  },
  {
   "cell_type": "code",
   "execution_count": null,
   "metadata": {},
   "outputs": [],
   "source": [
    "plt.figure(num=None, figsize=(12, 9), dpi=80, facecolor='w', edgecolor='k')\n",
    "plt.rcParams.update({'font.size': 20})\n",
    "\n",
    "# Potential to plots\n",
    "Vplt = (X.VT[0, 0] - X.VT[0, 0, -1])*ev2cm\n",
    "\n",
    "# length\n",
    "Rplt = X.R/aBohr;\n",
    "\n",
    "plt.plot(Rplt, Vplt)\n",
    "plt.plot(Rplt, 20*wf0 - (X.VT[0, 0, -1] - en0)*ev2cm)\n",
    "plt.plot(Rplt, -20*wf1 - (X.VT[0, 0, -1] - en1)*ev2cm)\n",
    "#plt.plot(Rplt, 20*wf2 - (X.VT[0, 0, -1] - en2)*ev2cm)\n",
    "#plt.plot(Rplt, -20*wf3 - (X.VT[0, 0, -1] - en3)*ev2cm)\n",
    "plt.plot(Rplt, 20*wf4 - (X.VT[0, 0, -1] - en4)*ev2cm)\n",
    "plt.plot(Rplt, -20*wf5 - (X.VT[0, 0, -1] - en5)*ev2cm)\n",
    "plt.plot(Rplt, 20*wf6 - (X.VT[0, 0, -1] - en6)*ev2cm)\n",
    "plt.plot(Rplt, -20*wf7 - (X.VT[0, 0, -1] - en7)*ev2cm)\n",
    "plt.plot(Rplt, 20*wf8 - (X.VT[0, 0, -1] - en8)*ev2cm)\n",
    "plt.plot(Rplt, 20*wf9 - (X.VT[0, 0, -1] - en9)*ev2cm)\n",
    "plt.plot(Rplt, -20*wf10 - (X.VT[0, 0, -1] - en10)*ev2cm)\n",
    "#plt.plot(Rplt, -20*wf11 - (X.VT[0, 0, -1] - en11)*ev2cm)\n",
    "\n",
    "plt.xlabel('Interparticle distance, r [$a_0$]')\n",
    "plt.ylabel('Potential Energy, [cm$^{-1}$]')\n",
    "\n",
    "plt.axis(xmin=1.5, xmax=15, ymin=-1000, ymax=25)\n",
    "plt.savefig('boundStates.svg')\n",
    "plt.show()"
   ]
  },
  {
   "cell_type": "code",
   "execution_count": null,
   "metadata": {},
   "outputs": [],
   "source": [
    "# Potential to plots\n",
    "Vplt = (X.VT[0, 0] - X.VT[0, 0, -1])*ev2cm\n",
    "\n",
    "# length\n",
    "Rplt = X.R/aBohr;\n",
    "\n",
    "# create labels\n",
    "lab8 = \"$\\\\nu=-4$\\nE$_{{-4}}= {}$ cm$^{{-1}}$\".format(round(-(X.VT[0, 0, -1] - en8)*ev2cm, 1))\n",
    "lab9 = \"$\\\\nu=-3,$\\nE$_{{-3}}= {}$ cm$^{{-1}}$\".format(round(-(X.VT[0, 0, -1] - en9)*ev2cm, 1))\n",
    "lab10 = \"$\\\\nu=-2,$\\nE$_{{-2}}= {}$ cm$^{{-1}}$\".format(round(-(X.VT[0, 0, -1] - en10)*ev2cm, 1))\n",
    "\n",
    "# Setup figure\n",
    "fig = plt.figure(num=None, figsize=(16, 7), dpi=80, facecolor='w', edgecolor='k')\n",
    "\n",
    "\n",
    "ax0 = fig.add_subplot(111)    # The big subplot\n",
    "ax1 = fig.add_subplot(121)\n",
    "ax2 = fig.add_subplot(122)\n",
    "\n",
    "fig.subplots_adjust(hspace= 0.05, wspace=0.05)\n",
    "\n",
    "plt.rcParams.update({'font.size': 20})\n",
    "box = dict(facecolor='white', pad=25, alpha=0.2)\n",
    "\n",
    "# Turn off axis lines and ticks of the big subplot\n",
    "ax0.spines['top'].set_color('none')\n",
    "ax0.spines['bottom'].set_color('none')\n",
    "ax0.spines['left'].set_color('none')\n",
    "ax0.spines['right'].set_color('none')\n",
    "ax0.tick_params(labelcolor='w', top='off', bottom='off', left='off', right='off')\n",
    "\n",
    "############################\n",
    "# Wavefunctions\n",
    "\n",
    "ax1.plot(Rplt, Vplt)\n",
    "\n",
    "p8 = ax1.plot([0, 12], np.array([-1, -1])*(X.VT[0, 0, -1] - en8)*ev2cm, '--')\n",
    "p9 = ax1.plot([0, 12], np.array([-1, -1])*(X.VT[0, 0, -1] - en9)*ev2cm, '--')\n",
    "p10 = ax1.plot([0, 12], np.array([-1, -1])*(X.VT[0, 0, -1] - en10)*ev2cm, '--')\n",
    "\n",
    "ax1.plot(Rplt, 3*wf10 - (X.VT[0, 0, -1] - en10)*ev2cm, c=p10[0].get_color(), label= lab10)\n",
    "ax1.plot(Rplt, 3*wf9 - (X.VT[0, 0, -1] - en9)*ev2cm, c=p9[0].get_color(), label= lab9)\n",
    "ax1.plot(Rplt, 3*wf8 - (X.VT[0, 0, -1] - en8)*ev2cm, c=p8[0].get_color(), label= lab8)\n",
    "\n",
    "ax1.axis(xmin=1.5, xmax=12, ymin=-25, ymax=2)\n",
    "#plt.setp(ax1.get_xticklabels(), visible=False)\n",
    "\n",
    "############################\n",
    "# probability density\n",
    "\n",
    "ax2.plot(Rplt, Vplt)\n",
    "\n",
    "p8 = ax2.plot([0, 12], np.array([-1, -1])*(X.VT[0, 0, -1] - en8)*ev2cm, '--')\n",
    "p9 = ax2.plot([0, 12], np.array([-1, -1])*(X.VT[0, 0, -1] - en9)*ev2cm, '--')\n",
    "p10 = ax2.plot([0, 12], np.array([-1, -1])*(X.VT[0, 0, -1] - en10)*ev2cm, '--')\n",
    "\n",
    "ax2.plot(Rplt, 3*np.power(np.absolute(wf10), 2) - (X.VT[0, 0, -1] - en10)*ev2cm, c=p10[0].get_color(), label= lab10)\n",
    "ax2.plot(Rplt, 3*np.power(np.absolute(wf9), 2) - (X.VT[0, 0, -1] - en9)*ev2cm, c=p9[0].get_color(), label= lab9)\n",
    "ax2.plot(Rplt, 3*np.power(np.absolute(wf8), 2) - (X.VT[0, 0, -1] - en8)*ev2cm, c=p8[0].get_color(), label= lab8)\n",
    "\n",
    "ax2.axis(xmin=1.5, xmax=12, ymin=-25, ymax=2)\n",
    "plt.setp(ax2.get_yticklabels(), visible=False)\n",
    "\n",
    "ax2.legend(loc='lower right', framealpha = 1.0, facecolor='w', fontsize=18);\n",
    "\n",
    "############################\n",
    "# figure labels\n",
    "\n",
    "ax0.set_xlabel('Interparticle distance, r [$a_0$]')\n",
    "ax0.set_ylabel('Potential Energy, [cm$^{-1}$]', labelpad=20)\n",
    "\n",
    "plt.savefig('condon_pnt.png')\n",
    "plt.savefig('condon_pnt.svg')\n",
    "plt.show()"
   ]
  },
  {
   "cell_type": "code",
   "execution_count": null,
   "metadata": {},
   "outputs": [],
   "source": [
    "# Potential to plots\n",
    "Vplt = (X.VT[0, 0] - X.VT[0, 0, -1])*ev2cm\n",
    "\n",
    "# length\n",
    "Rplt = X.R/aBohr;\n",
    "\n",
    "# Complex labels\n",
    "lab11 = \"$\\\\nu=-1,$\\nE$_{{-1}}= {} \\\\times 10^{{-3}}$ cm$^{{-1}}$\".format(round(-1e3*(X.VT[0, 0, -1] - en11)*ev2cm, 1))\n",
    "labRClas = \"$r_{classical} = 19.6\\;a_0$\"\n",
    "\n",
    "# Setup figure\n",
    "fig = plt.figure(num=None, figsize=(16, 9), dpi=80, facecolor='w', edgecolor='k')\n",
    "ax0 = fig.add_subplot(111)    # The big subplot\n",
    "ax1 = fig.add_subplot(211)\n",
    "ax2 = fig.add_subplot(212)\n",
    "\n",
    "plt.rcParams.update({'font.size': 20})\n",
    "box = dict(facecolor='white', pad=25, alpha=0.2)\n",
    "\n",
    "# Turn off axis lines and ticks of the big subplot\n",
    "ax0.spines['top'].set_color('none')\n",
    "ax0.spines['bottom'].set_color('none')\n",
    "ax0.spines['left'].set_color('none')\n",
    "ax0.spines['right'].set_color('none')\n",
    "ax0.tick_params(labelcolor='w', top='off', bottom='off', left='off', right='off')\n",
    "\n",
    "############################\n",
    "# Wavefunction\n",
    "\n",
    "p10 = ax1.plot(Rplt, Vplt)\n",
    "p13 = ax1.plot(Rplt, 1e3*wf11)\n",
    "p12 = ax1.plot([19.6, 19.6], [-1500, 1000], '--')\n",
    "\n",
    "ax1.set_xscale('log')\n",
    "#ax1.legend(); \n",
    "ax1.axis(xmin=1, xmax=1000, ymin=-1000, ymax=150)\n",
    "plt.setp(ax1.get_xticklabels(), visible=False)\n",
    "\n",
    "############################\n",
    "# probability density\n",
    "\n",
    "p20 = ax2.plot(Rplt, Vplt)\n",
    "p22 = ax2.plot(Rplt, 8e3*np.power(np.absolute(wf11), 2))\n",
    "p23 = ax2.plot([19.6, 19.6], [-1500, 1000], '--', c=p12[0].get_color())\n",
    "\n",
    "ax2.set_xscale('log')\n",
    "ax2.axis(xmin=1, xmax=1000, ymin=-1000, ymax=1000)\n",
    "\n",
    "ax2.legend((p10[0], p12[0], p13[0], p22[0]),\\\n",
    "           ('$X^1\\Sigma_g^+$', labRClas, lab11),\\\n",
    "           loc='lower right', framealpha = 1.0, facecolor='w'); \n",
    "\n",
    "############################\n",
    "# figure labels\n",
    "\n",
    "ax0.set_xlabel('Interparticle distance, r [$a_0$]')\n",
    "ax0.set_ylabel('Potential Energy, [cm$^{-1}$]', labelpad=50)\n",
    "\n",
    "plt.show()"
   ]
  },
  {
   "cell_type": "code",
   "execution_count": null,
   "metadata": {},
   "outputs": [],
   "source": [
    "-(X.VT[0, 0, -1] - en11)*ev2MHz"
   ]
  },
  {
   "cell_type": "code",
   "execution_count": null,
   "metadata": {},
   "outputs": [],
   "source": [
    "X.levels(vmax=10, ntrial=15)"
   ]
  },
  {
   "cell_type": "code",
   "execution_count": null,
   "metadata": {},
   "outputs": [],
   "source": [
    "X.VT[0,0,-1]\n",
    "plt.plot(X.R/aBohr, X.VT[0,0])\n",
    "plt.axis(xmin=1.5, xmax=15, ymin=0, ymax=0.125)\n",
    "plt.show()"
   ]
  },
  {
   "cell_type": "code",
   "execution_count": null,
   "metadata": {},
   "outputs": [],
   "source": [
    "C6_au = 2*De*ev2Ha*(1/aBohr)**6\n",
    "Rvdw = (1/2)*(2*X.μ*kg2au*C6_au)**(1/4)\n",
    "Rvdw"
   ]
  },
  {
   "cell_type": "code",
   "execution_count": null,
   "metadata": {},
   "outputs": [],
   "source": [
    "1/(2*X.μ*kg2au*Rvdw**2)*Ha2MHz"
   ]
  },
  {
   "cell_type": "code",
   "execution_count": null,
   "metadata": {},
   "outputs": [],
   "source": [
    "X.solve(X.VT[0, 0, -1] - 90/ev2MHz)\n",
    "X"
   ]
  },
  {
   "cell_type": "code",
   "execution_count": null,
   "metadata": {},
   "outputs": [],
   "source": [
    "#X.solve(X.VT[0, 0, -1] - 10/ev2MHz)\n",
    "wf11 = X.wavefunction[:, 0]\n",
    "en11 = X.energy\n",
    "(X.energy - X.VT[0, 0, -1])*ev2MHz"
   ]
  },
  {
   "cell_type": "code",
   "execution_count": null,
   "metadata": {},
   "outputs": [],
   "source": [
    "650/ev2cm"
   ]
  },
  {
   "cell_type": "code",
   "execution_count": null,
   "metadata": {},
   "outputs": [],
   "source": [
    "data = np.column_stack((Rplt, X.wavefunction[:, 0]))\n",
    "np.savetxt(\"../data/toyLJ_halo.dat\", data)"
   ]
  },
  {
   "cell_type": "code",
   "execution_count": null,
   "metadata": {},
   "outputs": [],
   "source": [
    "from IPython.core.interactiveshell import InteractiveShell\n",
    "InteractiveShell.ast_node_interactivity = \"all\"\n",
    "#default value is \"last_expr\""
   ]
  }
 ],
 "metadata": {
  "kernelspec": {
   "display_name": "Python 3",
   "language": "python",
   "name": "python3"
  },
  "language_info": {
   "codemirror_mode": {
    "name": "ipython",
    "version": 3
   },
   "file_extension": ".py",
   "mimetype": "text/x-python",
   "name": "python",
   "nbconvert_exporter": "python",
   "pygments_lexer": "ipython3",
   "version": "3.7.2"
  }
 },
 "nbformat": 4,
 "nbformat_minor": 2
}
